{
 "cells": [
  {
   "cell_type": "code",
   "execution_count": 1,
   "metadata": {
    "collapsed": true
   },
   "outputs": [],
   "source": [
    "import json, os, sys\n",
    "from collections import namedtuple"
   ]
  },
  {
   "cell_type": "code",
   "execution_count": 11,
   "metadata": {
    "collapsed": true
   },
   "outputs": [],
   "source": [
    "class RawFile(object):\n",
    "    def __init__(self, raw):\n",
    "        self.id = raw['id']\n",
    "        self.entry = raw.get('entry', False)\n",
    "        self.deps = {id_: rel_path for id, rel_path in raw[\"deps\"].iteritems}\n",
    "        self.source = raw['source']\n",
    "        self.refs = {}\n",
    "\n",
    "class RawBundle(object):\n",
    "    def __init__(self, raw_file_list):\n",
    "        files_by_id = {f['id']: File(f) for f in raw_file_list}\n",
    "        for file_id, file_ in files_by_id.itervalues():\n",
    "            for dep_id, dep_path in file_.deps.iteritems():\n",
    "                files_by_id[dep_id][file_id] = dep_path\n",
    "        entry = get_entry(files_by_id)\n",
    "\n",
    "    def __getitem__(self, key):\n",
    "        return files_by_id(key)"
   ]
  },
  {
   "cell_type": "code",
   "execution_count": 4,
   "metadata": {
    "collapsed": false
   },
   "outputs": [],
   "source": [
    "with open(\"unbundled/artist.spa/unbundled.json\") as f:\n",
    "    bundle = json.loads(f.read())"
   ]
  },
  {
   "cell_type": "code",
   "execution_count": 9,
   "metadata": {
    "collapsed": false
   },
   "outputs": [
    {
     "data": {
      "text/plain": [
       "{u'deps', u'entry', u'id', u'source'}"
      ]
     },
     "execution_count": 9,
     "metadata": {},
     "output_type": "execute_result"
    }
   ],
   "source": [
    "rb = RawBundle()"
   ]
  },
  {
   "cell_type": "code",
   "execution_count": null,
   "metadata": {
    "collapsed": true
   },
   "outputs": [],
   "source": []
  }
 ],
 "metadata": {
  "kernelspec": {
   "display_name": "Python 2",
   "language": "python",
   "name": "python2"
  },
  "language_info": {
   "codemirror_mode": {
    "name": "ipython",
    "version": 2
   },
   "file_extension": ".py",
   "mimetype": "text/x-python",
   "name": "python",
   "nbconvert_exporter": "python",
   "pygments_lexer": "ipython2",
   "version": "2.7.13"
  }
 },
 "nbformat": 4,
 "nbformat_minor": 2
}
